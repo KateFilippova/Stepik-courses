{
 "cells": [
  {
   "cell_type": "markdown",
   "id": "c17cc5f8",
   "metadata": {},
   "source": [
    "# Строковый тип данных\n",
    "\n",
    "1. Строковый тип данных `str`\n",
    "2. Функции `len()` и `str()`\n",
    "3. Конкатенация строк\n",
    "4. Умножение строки на число\n",
    "5. Оператор `in`\n",
    "6. Решение задач\n",
    "**Аннотация.** Поговорим о строковом типе данных и научимся использовать встроенные функции `len()`, `str()`, а также работать с операторами `+`, `*`, `in`."
   ]
  },
  {
   "cell_type": "markdown",
   "id": "9b6d27c5",
   "metadata": {},
   "source": [
    "## Строковый тип данных"
   ]
  },
  {
   "cell_type": "markdown",
   "id": "218438fb",
   "metadata": {},
   "source": [
    "Строковый тип данных, как и числовой, очень часто используется в программировании. В Python строковый тип данных имеет название `str` (сокращение от string — струна, ряд). \n",
    "\n",
    "Для создания строковой переменной (литерала), мы должны заключить необходимый текст в кавычки. В Python можно использовать как одинарные кавычки, так и двойные:"
   ]
  },
  {
   "cell_type": "code",
   "execution_count": 1,
   "id": "e82a58f8",
   "metadata": {},
   "outputs": [],
   "source": [
    "s1 = 'Python rocks!'\n",
    "s2 = \"Python rocks!\""
   ]
  },
  {
   "cell_type": "markdown",
   "id": "cdb07c6a",
   "metadata": {},
   "source": [
    "Напомним, что по умолчанию, команда `input()` считывает именно строку текста:"
   ]
  },
  {
   "cell_type": "code",
   "execution_count": 2,
   "id": "cf60daa3",
   "metadata": {},
   "outputs": [
    {
     "name": "stdout",
     "output_type": "stream",
     "text": [
      "123\n"
     ]
    }
   ],
   "source": [
    "s = input()  # переменная s имеет строковый тип str"
   ]
  },
  {
   "cell_type": "markdown",
   "id": "6df50228",
   "metadata": {},
   "source": [
    "Для задания пустой строки, мы используем две кавычки одинакового типа:"
   ]
  },
  {
   "cell_type": "code",
   "execution_count": 3,
   "id": "8b3b31b2",
   "metadata": {},
   "outputs": [],
   "source": [
    "s1 = ''   # пустая строка\n",
    "s2 = ' '  # строка состоящая из одного символа пробела"
   ]
  },
  {
   "cell_type": "markdown",
   "id": "2aedf6de",
   "metadata": {},
   "source": [
    "Не стоит путать пустую строку и строку состоящую из одного символа пробела. Это абсолютно разные строки."
   ]
  },
  {
   "cell_type": "markdown",
   "id": "8a00bed8",
   "metadata": {},
   "source": [
    "## Длина строки"
   ]
  },
  {
   "cell_type": "markdown",
   "id": "838b5dce",
   "metadata": {},
   "source": [
    "Длиной строки называется количество символов из которых она состоит. Чтобы посчитать длину строки используем встроенную функцию `len()` (от слова length – длина).\n",
    "\n",
    "Следующий программный код выведет: \n",
    "\n",
    "6\n",
    "\n",
    "13\n",
    "\n",
    "\n",
    "**Внимание** При подсчете длины строки считаются все символы, включая пробелы."
   ]
  },
  {
   "cell_type": "code",
   "execution_count": 4,
   "id": "1bd24793",
   "metadata": {},
   "outputs": [
    {
     "name": "stdout",
     "output_type": "stream",
     "text": [
      "6\n",
      "13\n"
     ]
    }
   ],
   "source": [
    "s1 = 'abcdef'\n",
    "length1 = len(s1)               # считаем длину строки из переменной s1\n",
    "length2 = len('Python rocks!')  # считаем длину строкового литерала\n",
    "print(length1)\n",
    "print(length2)"
   ]
  },
  {
   "cell_type": "markdown",
   "id": "5a955a74",
   "metadata": {},
   "source": [
    "## Конкатенация строк"
   ]
  },
  {
   "cell_type": "markdown",
   "id": "a9d01a7c",
   "metadata": {},
   "source": [
    "Строки, как и числа, можно складывать. Операция сложения строк называется **конкатенацией** или **сцеплением**.\n",
    "\n",
    "Рассмотрим следующий программный код:"
   ]
  },
  {
   "cell_type": "code",
   "execution_count": 6,
   "id": "61031a89",
   "metadata": {},
   "outputs": [
    {
     "name": "stdout",
     "output_type": "stream",
     "text": [
      "abbc\n",
      "bcab\n",
      "abbcbcab!!\n"
     ]
    }
   ],
   "source": [
    "s1 = 'ab' + 'bc'\n",
    "s2 = 'bc' + 'ab'\n",
    "s3 = s1 + s2 + '!!'\n",
    "print(s1)\n",
    "print(s2)\n",
    "print(s3)"
   ]
  },
  {
   "cell_type": "markdown",
   "id": "bd7a1c63",
   "metadata": {},
   "source": [
    "Результатом выполнения такого кода будет:\n",
    "```Python\n",
    "abbc\n",
    "bcab\n",
    "abbcbcab!!\n",
    "```"
   ]
  },
  {
   "cell_type": "markdown",
   "id": "eb8e50ff",
   "metadata": {},
   "source": [
    "Операция сложения строк в отличие от операции сложения чисел не является <a href='https://ru.wikipedia.org/wiki/%D0%9A%D0%BE%D0%BC%D0%BC%D1%83%D1%82%D0%B0%D1%82%D0%B8%D0%B2%D0%BD%D0%BE%D1%81%D1%82%D1%8C'>коммутативной</a>, то есть, от перестановки мест слагаемых-строк результат меняется!\n",
    "\n",
    "    \n",
    "С помощью конкатенации строк можно эмулировать вывод данных, который раньше мы делали используя необязательные параметры `sep` и `end`. Следующие две строки кода делают одно и тоже:"
   ]
  },
  {
   "cell_type": "code",
   "execution_count": 7,
   "id": "85c0e50f",
   "metadata": {},
   "outputs": [
    {
     "name": "stdout",
     "output_type": "stream",
     "text": [
      "a*b*c!\n",
      "a*b*c!\n"
     ]
    }
   ],
   "source": [
    "print('a', 'b', 'c', sep='*', end='!')\n",
    "print()  # переход на новую строку\n",
    "print('a' + '*' + 'b' + '*' + 'c' + '!')"
   ]
  },
  {
   "cell_type": "markdown",
   "id": "3244997c",
   "metadata": {},
   "source": [
    "Результатом выполнения такого кода будет:\n",
    "```Python\n",
    "a*b*c!\n",
    "a*b*c!\n",
    "```"
   ]
  },
  {
   "cell_type": "markdown",
   "id": "4f8d9460",
   "metadata": {},
   "source": [
    "## Умножение строки на число"
   ]
  },
  {
   "cell_type": "markdown",
   "id": "6ed3fbfc",
   "metadata": {},
   "source": [
    "В Python так же можно умножать строку на число. Такой оператор повторяет строку указанное количество раз.\n",
    "\n",
    "Рассмотрим следующий программный код:"
   ]
  },
  {
   "cell_type": "code",
   "execution_count": 8,
   "id": "2a2f11cb",
   "metadata": {},
   "outputs": [
    {
     "name": "stdout",
     "output_type": "stream",
     "text": [
      "HiHiHiHi\n"
     ]
    }
   ],
   "source": [
    "s = 'Hi' * 4\n",
    "print(s)"
   ]
  },
  {
   "cell_type": "markdown",
   "id": "a65ff520",
   "metadata": {},
   "source": [
    "Результатом выполнения такого кода будет:\n",
    "```Python\n",
    "HiHiHiHi\n",
    "```\n",
    "Оператор умножения строки на число (repetition) очень удобен на практике. Например, мы хотим распечатать строку состоящую из 75 символов -. Мы можем это сделать с помощью кода:"
   ]
  },
  {
   "cell_type": "code",
   "execution_count": 9,
   "id": "8c67b327",
   "metadata": {},
   "outputs": [
    {
     "name": "stdout",
     "output_type": "stream",
     "text": [
      "---------------------------------------------------------------------------\n"
     ]
    }
   ],
   "source": [
    "print('-' * 75)"
   ]
  },
  {
   "cell_type": "markdown",
   "id": "829b1472",
   "metadata": {},
   "source": [
    "Результатом выполнения такого кода будет:\n",
    "\n",
    "`---------------------------------------------------------------------------`\n",
    "\n",
    "**Примечание** Строку можно умножать на число, но нельзя умножать на строку."
   ]
  },
  {
   "cell_type": "markdown",
   "id": "00457d6e",
   "metadata": {},
   "source": [
    "## Примечания"
   ]
  },
  {
   "cell_type": "markdown",
   "id": "d19dc064",
   "metadata": {},
   "source": [
    "**Примечание 1**. Тройные кавычки в Python используются для многострочного (multiline) текста. Например,"
   ]
  },
  {
   "cell_type": "code",
   "execution_count": 10,
   "id": "5bfffdba",
   "metadata": {},
   "outputs": [
    {
     "data": {
      "text/plain": [
       "'Python is an interpreted, high-level, general-purpose programming language.\\nCreated by Guido van Rossum and first released in 1991, Python design \\nphilosophy emphasizes code readability with its notable use of significant whitespace.'"
      ]
     },
     "execution_count": 10,
     "metadata": {},
     "output_type": "execute_result"
    }
   ],
   "source": [
    "text = '''Python is an interpreted, high-level, general-purpose programming language.\n",
    "Created by Guido van Rossum and first released in 1991, Python design \n",
    "philosophy emphasizes code readability with its notable use of significant whitespace.'''\n",
    "text"
   ]
  },
  {
   "cell_type": "markdown",
   "id": "e9588f1e",
   "metadata": {},
   "source": [
    "**Примечание 2**. На первый взгляд может показаться странным, что можно использовать как одинарные, так и двойные кавычки, однако такой подход позволяет очень легко добавлять в строку нужные кавычки:"
   ]
  },
  {
   "cell_type": "code",
   "execution_count": 11,
   "id": "af8bd967",
   "metadata": {},
   "outputs": [
    {
     "name": "stdout",
     "output_type": "stream",
     "text": [
      "Мы можем использовать в одиночных кавычках двойные кавычки \"Война и мир\"\n",
      "Мы можем использовать в двойных кавычках одиночные кавычки 'Война и мир'\n"
     ]
    }
   ],
   "source": [
    "s1 = 'Мы можем использовать в одиночных кавычках двойные кавычки \"Война и мир\"'\n",
    "s2 = \"Мы можем использовать в двойных кавычках одиночные кавычки 'Война и мир'\"\n",
    "print(s1)\n",
    "print(s2)"
   ]
  },
  {
   "cell_type": "markdown",
   "id": "3de15c37",
   "metadata": {},
   "source": [
    "Результатом выполнения такого кода будет:\n",
    "```Python\n",
    "Мы можем использовать в одиночных кавычках двойные кавычки \"Война и мир\"\n",
    "Мы можем использовать в двойных кавычках одиночные кавычки 'Война и мир'\n",
    "```"
   ]
  },
  {
   "cell_type": "markdown",
   "id": "3a8ce423",
   "metadata": {},
   "source": [
    "# Задачи"
   ]
  },
  {
   "cell_type": "markdown",
   "id": "153c2668",
   "metadata": {},
   "source": [
    "## 6.2.1.\n",
    "Что покажет приведенный ниже фрагмент кода?\n",
    "```Python\n",
    "mystr = 'да'\n",
    "mystr = mystr + 'нет'\n",
    "mystr = mystr + 'да'\n",
    "print(mystr)\n",
    "```"
   ]
  },
  {
   "cell_type": "code",
   "execution_count": 12,
   "id": "1b5de7c2",
   "metadata": {},
   "outputs": [
    {
     "name": "stdout",
     "output_type": "stream",
     "text": [
      "данетда\n"
     ]
    }
   ],
   "source": [
    "mystr = 'да'\n",
    "mystr = mystr + 'нет'\n",
    "mystr = mystr + 'да'\n",
    "print(mystr)"
   ]
  },
  {
   "cell_type": "markdown",
   "id": "fd8ff42c",
   "metadata": {},
   "source": [
    "## 6.2.2.\n",
    "Что покажет приведенный ниже фрагмент кода?\n",
    "```Python\n",
    "str1 = '1'\n",
    "str2 = str1 + '2' + str1\n",
    "str3 = str2 + '3' + str2\n",
    "str4 = str3 + '4' + str3\n",
    "print(str4)\n",
    "```"
   ]
  },
  {
   "cell_type": "code",
   "execution_count": 13,
   "id": "93e378be",
   "metadata": {},
   "outputs": [
    {
     "name": "stdout",
     "output_type": "stream",
     "text": [
      "121312141213121\n"
     ]
    }
   ],
   "source": [
    "str1 = '1'\n",
    "str2 = str1 + '2' + str1\n",
    "str3 = str2 + '3' + str2\n",
    "str4 = str3 + '4' + str3\n",
    "print(str4)"
   ]
  },
  {
   "cell_type": "markdown",
   "id": "a7fb0c41",
   "metadata": {},
   "source": [
    "## 6.2.3.\n",
    "Что покажет приведенный ниже фрагмент кода?\n",
    "```Python\n",
    "mystr = '123' * 3 + '456' * 2 + '789' * 1\n",
    "print(mystr)\n",
    "```"
   ]
  },
  {
   "cell_type": "code",
   "execution_count": 14,
   "id": "41774f40",
   "metadata": {},
   "outputs": [
    {
     "name": "stdout",
     "output_type": "stream",
     "text": [
      "123123123456456789\n"
     ]
    }
   ],
   "source": [
    "mystr = '123' * 3 + '456' * 2 + '789' * 1\n",
    "print(mystr)"
   ]
  },
  {
   "cell_type": "markdown",
   "id": "a222c405",
   "metadata": {},
   "source": [
    "## 6.2.4.\n",
    "Напишите программу, которая выводит текст:\n",
    "\n",
    "`\"Python is a great language!\", said Fred. \"I don't ever remember having this much fun before.\"`\n",
    "\n",
    "Примечание. Используйте конкатенацию строк."
   ]
  },
  {
   "cell_type": "code",
   "execution_count": 15,
   "id": "5c68cf2a",
   "metadata": {},
   "outputs": [
    {
     "name": "stdout",
     "output_type": "stream",
     "text": [
      "\"Python is a great language!\", said Fred. \"I don't ever remember having this much fun before.\"\n"
     ]
    }
   ],
   "source": [
    "print('\"Python is a great language!\", said Fred. \"I do'+\"n't\" +' ever remember having this much fun before.\"')"
   ]
  },
  {
   "cell_type": "markdown",
   "id": "921fee9b",
   "metadata": {},
   "source": [
    "## 6.2.5.\n",
    "Напишите программу, которая считывает с клавиатуры две строки – имя и фамилию пользователя и выводит фразу:\n",
    "\n",
    "`«Hello [введенное имя] [введенная фамилия]! You just delved into Python».`\n",
    "\n",
    "**Формат входных данных**\n",
    "На вход программе подаётся две строки (имя и фамилия), каждая на отдельной строке.\n",
    "\n",
    "**Формат выходных данных**\n",
    "Программа должна вывести текст в соответствии с условием задачи.\n",
    "\n",
    "**Примечание**. Между `firstname` `lastname` вставьте пробел =)"
   ]
  },
  {
   "cell_type": "code",
   "execution_count": 17,
   "id": "52487a8d",
   "metadata": {},
   "outputs": [
    {
     "name": "stdout",
     "output_type": "stream",
     "text": [
      "Leonardo\n",
      "DiCaprio\n",
      "Hello Leonardo DiCaprio! You just delved into Python\n"
     ]
    }
   ],
   "source": [
    "print(f'Hello {input()} {input()}! You just delved into Python')"
   ]
  },
  {
   "cell_type": "markdown",
   "id": "89a1f143",
   "metadata": {},
   "source": [
    "## 6.2.6. Футбольная команда\n",
    "Напишите программу, которая считывает с клавиатуры название футбольной команды и выводит фразу:\n",
    "\n",
    "`«Футбольная команда [введённая строка] имеет длину [длина введённой строки] символов».`\n",
    "\n",
    "**Формат входных данных**\n",
    "На вход программе подаётся строка – название футбольной команды.\n",
    "\n",
    "**Формат выходных данных**\n",
    "Программа должна вывести текст в соответствии с условием задачи.\n"
   ]
  },
  {
   "cell_type": "code",
   "execution_count": 19,
   "id": "9cf2d181",
   "metadata": {},
   "outputs": [
    {
     "name": "stdout",
     "output_type": "stream",
     "text": [
      "Barcelona\n",
      "Футбольная команда Barcelona имеет длину 9 символов\n"
     ]
    }
   ],
   "source": [
    "team = input()\n",
    "print(f'Футбольная команда {team} имеет длину {len(team)} символов')"
   ]
  },
  {
   "cell_type": "markdown",
   "id": "bd4d170b",
   "metadata": {},
   "source": [
    "## 6.2.7. Три города\n",
    "Даны названия трех городов. Напишите программу, которая определяет самое короткое и самое длинное название города.\n",
    "\n",
    "**Формат входных данных**\n",
    "На вход программе подаётся названия трех городов, каждое на отдельной строке.\n",
    "\n",
    "**Формат выходных данных**\n",
    "Программа должна вывести самое короткое и длинное название города, каждое на отдельной строке.\n",
    "\n",
    "**Примечание**. Гарантируется, что длины названий всех трех городов различны."
   ]
  },
  {
   "cell_type": "code",
   "execution_count": 24,
   "id": "ec987934",
   "metadata": {},
   "outputs": [
    {
     "name": "stdout",
     "output_type": "stream",
     "text": [
      "Москва\n",
      "Санкт-Петербург\n"
     ]
    }
   ],
   "source": [
    "# city1, city2, city3 = input(), input(), input()\n",
    "names = ['Москва', 'Санкт-Петербург', 'Екатеринбург']\n",
    "arr = [len(names[0]), len(names[1]), len(names[2])]\n",
    "for i in names:\n",
    "    if len(i) == min(arr):\n",
    "        print(i)\n",
    "for j in names:\n",
    "    if len(j) == max(arr):\n",
    "        print(j)"
   ]
  },
  {
   "cell_type": "code",
   "execution_count": 25,
   "id": "2c7cd92a",
   "metadata": {},
   "outputs": [
    {
     "name": "stdout",
     "output_type": "stream",
     "text": [
      "Москва\n",
      "Санкт-Петербург\n",
      "Екатеринбург\n",
      "Москва\n",
      "Санкт-Петербург\n"
     ]
    }
   ],
   "source": [
    "print(*sorted([input() for i in range(3)], key=len)[0::2], sep='\\n')"
   ]
  },
  {
   "cell_type": "markdown",
   "id": "d464e633",
   "metadata": {},
   "source": [
    "## 6.2.8. Арифметические строки\n",
    "Вводятся 3 строки в случайном порядке. Напишите программу, которая выясняет можно ли из длин этих строк построить возрастающую арифметическую прогрессию.\n",
    "\n",
    "**Формат входных данных**\n",
    "На вход программе подаются три строки, каждая на отдельной строке.\n",
    "\n",
    "**Формат выходных данных**\n",
    "Программа должна вывести строку «YES», если из длин введенных слов можно построить арифметическую прогрессию, «NO» в ином случае."
   ]
  },
  {
   "cell_type": "code",
   "execution_count": 26,
   "id": "24148009",
   "metadata": {},
   "outputs": [
    {
     "name": "stdout",
     "output_type": "stream",
     "text": [
      "abc\n",
      "a\n",
      "abcde\n",
      "YES\n"
     ]
    }
   ],
   "source": [
    "a = [*sorted([input() for i in range(3)], key=len)]\n",
    "if len(a[2])-len(a[1]) == len(a[1])-len(a[0]):\n",
    "    print('YES')\n",
    "else:\n",
    "    print('NO')"
   ]
  },
  {
   "cell_type": "code",
   "execution_count": null,
   "id": "30722d12",
   "metadata": {},
   "outputs": [],
   "source": [
    "a = sorted([len(input()), len(input()), len(input())])\n",
    "print('YES' if a[2] - a[1] == a[1] - a[0] else 'NO')"
   ]
  },
  {
   "cell_type": "markdown",
   "id": "916e931c",
   "metadata": {},
   "source": [
    "## Оператор in\n",
    "В Python есть специальный оператор `in`, который позволяет проверить, что одна строка находится внутри другой.\n",
    "\n",
    "Рассмотрим следующий код:"
   ]
  },
  {
   "cell_type": "code",
   "execution_count": 27,
   "id": "a8cec551",
   "metadata": {},
   "outputs": [
    {
     "name": "stdout",
     "output_type": "stream",
     "text": [
      "asd\n",
      "Введенная строка содержит символ а\n"
     ]
    }
   ],
   "source": [
    "s = input()\n",
    "if 'a' in s:\n",
    "    print('Введенная строка содержит символ а')\n",
    "else:\n",
    "    print('Введенная строка не содержит символ а')"
   ]
  },
  {
   "cell_type": "markdown",
   "id": "b518cd9e",
   "metadata": {},
   "source": [
    "Такой код проверяет, содержится ли в переменной `s` символ `a` и выводит соответствующий текст.\n",
    "\n",
    "Мы можем использовать оператор `in` вместе с логическим оператором `not`. Например"
   ]
  },
  {
   "cell_type": "code",
   "execution_count": 28,
   "id": "885ebec4",
   "metadata": {},
   "outputs": [
    {
     "name": "stdout",
     "output_type": "stream",
     "text": [
      "wsdgdg\n",
      "Введенная строка не содержит символа точки\n"
     ]
    }
   ],
   "source": [
    "s = input()\n",
    "if '.' not in s:\n",
    "    print('Введенная строка не содержит символа точки')"
   ]
  },
  {
   "cell_type": "markdown",
   "id": "63fd058e",
   "metadata": {},
   "source": [
    "С помощью оператора `in` мы можем упростить следующий код, проверяющий, что в переменной `s` находится один из 5 символов a, e, i, o, u:"
   ]
  },
  {
   "cell_type": "code",
   "execution_count": 29,
   "id": "f14a788a",
   "metadata": {},
   "outputs": [],
   "source": [
    "if s == 'a' or s == 'e' or s == 'i' or s == 'o' or s == 'u':\n",
    "    print('YES')"
   ]
  },
  {
   "cell_type": "markdown",
   "id": "981ea547",
   "metadata": {},
   "source": [
    "до вида:"
   ]
  },
  {
   "cell_type": "code",
   "execution_count": 30,
   "id": "302aebaa",
   "metadata": {},
   "outputs": [],
   "source": [
    "if len(s) == 1 and s in 'aeiou':\n",
    "    print('YES')"
   ]
  },
  {
   "cell_type": "markdown",
   "id": "6c0ae2ff",
   "metadata": {},
   "source": [
    "## Примечания\n",
    "**Примечание**. Если строка `s1` содержится в строке `s2`, то говорят, что строка `s1` является **подстрокой** для строки `s2`. Другими словами, оператор `in` определяет является ли одна строка подстрокой другой."
   ]
  },
  {
   "cell_type": "markdown",
   "id": "e2ba3cef",
   "metadata": {},
   "source": [
    "## 6.2.9.\n",
    "Какие значения может принимать строковая переменная `s`, чтобы в результате выполнения кода было выведено слово «YES»?\n",
    "```Python\n",
    "if s in 'abc123abc':\n",
    "    print('YES')\n",
    "else:\n",
    "    print('NO')\n",
    "```"
   ]
  },
  {
   "cell_type": "markdown",
   "id": "4ab93c2b",
   "metadata": {},
   "source": [
    "- **s = '23'**\n",
    "- s = '321'\n",
    "- **s = 'a'**\n",
    "- s = 'abcabc'\n",
    "- s = 'bca'\n",
    "- s = 'bc2'\n",
    "- **s = '3ab'**\n",
    "- **s = '1'**\n",
    "- **s = '123abc'**"
   ]
  },
  {
   "cell_type": "markdown",
   "id": "c748e694",
   "metadata": {},
   "source": [
    "## 6.2.10. Цвет настроения синий\n",
    "Напишите программу, которая считывает одну строку, после чего выводит «YES», если в введенной строке есть подстрока «синий» и «NO» в противном случае.\n",
    "\n",
    "**Формат входных данных**\n",
    "На вход программе подается одна строка.\n",
    "\n",
    "**Формат выходных данных**\n",
    "Программа должна вывести текст в соответствии с условием задачи."
   ]
  },
  {
   "cell_type": "code",
   "execution_count": 32,
   "id": "82f585d3",
   "metadata": {},
   "outputs": [
    {
     "name": "stdout",
     "output_type": "stream",
     "text": [
      "Как называется этот красивый синий камень в Вашем кольце?\n",
      "YES\n"
     ]
    }
   ],
   "source": [
    "print('YES' if 'синий' in input() else 'NO')"
   ]
  },
  {
   "cell_type": "markdown",
   "id": "153e1a03",
   "metadata": {},
   "source": [
    "## 6.2.11. Отдыхаем ли?\n",
    "Напишите программу, которая считывает одну строку, после чего выводит «YES», если в введённой строке есть подстрока «суббота» или «воскресенье», и «NO» в противном случае.\n",
    "\n",
    "**Формат входных данных**\n",
    "На вход программе подается одна строка.\n",
    "\n",
    "**Формат выходных данных**\n",
    "Программа должна вывести текст в соответствии с условием задачи."
   ]
  },
  {
   "cell_type": "code",
   "execution_count": 34,
   "id": "191143f2",
   "metadata": {},
   "outputs": [
    {
     "name": "stdout",
     "output_type": "stream",
     "text": [
      "Была суббота, и ему хотелось поскорее уехать домой.\n",
      "YES\n"
     ]
    }
   ],
   "source": [
    "st = input()\n",
    "print('YES' if 'суббота' in st or 'воскресенье' in st else 'NO')"
   ]
  },
  {
   "cell_type": "markdown",
   "id": "9819e1bf",
   "metadata": {},
   "source": [
    "## 6.2.12. Корректный email\n",
    "Будем считать email адрес корректным, если в нем есть символ собачки (@) и точки. Напишите программу проверяющую корректность email адреса.\n",
    "\n",
    "**Формат входных данных**\n",
    "На вход программе подаётся одна строка – email адрес.\n",
    "\n",
    "**Формат выходных данных**\n",
    "Программа должна вывести строку «YES», если email адрес является корректным и «NO» в ином случае.\n",
    "\n",
    "**Примечание**. Наличие символов @ и . недостаточно для корректности email адреса, однако их отсутствие гарантировано влечёт за собой неверный email."
   ]
  },
  {
   "cell_type": "code",
   "execution_count": 35,
   "id": "3015d27e",
   "metadata": {},
   "outputs": [
    {
     "name": "stdout",
     "output_type": "stream",
     "text": [
      "aaaa@bbb.com\n",
      "YES\n"
     ]
    }
   ],
   "source": [
    "st = input()\n",
    "print('YES' if '@' in st and '.' in st else 'NO')"
   ]
  },
  {
   "cell_type": "code",
   "execution_count": null,
   "id": "a5a56fa8",
   "metadata": {},
   "outputs": [],
   "source": []
  }
 ],
 "metadata": {
  "kernelspec": {
   "display_name": "Python 3 (ipykernel)",
   "language": "python",
   "name": "python3"
  },
  "language_info": {
   "codemirror_mode": {
    "name": "ipython",
    "version": 3
   },
   "file_extension": ".py",
   "mimetype": "text/x-python",
   "name": "python",
   "nbconvert_exporter": "python",
   "pygments_lexer": "ipython3",
   "version": "3.9.7"
  }
 },
 "nbformat": 4,
 "nbformat_minor": 5
}
